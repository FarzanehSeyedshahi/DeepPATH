{
 "cells": [
  {
   "cell_type": "code",
   "execution_count": 1,
   "metadata": {},
   "outputs": [
    {
     "name": "stderr",
     "output_type": "stream",
     "text": [
      "|2024-04-17|10:34:08.563| [WARNING] /mnt/cephfs/home/users/fshahi/miniconda3/envs/mif/lib/python3.10/site-packages/tqdm/auto.py:21: TqdmWarning: IProgress not found. Please update jupyter and ipywidgets. See https://ipywidgets.readthedocs.io/en/stable/user_install.html\n",
      "  from .autonotebook import tqdm as notebook_tqdm\n",
      "\n"
     ]
    }
   ],
   "source": [
    "import os\n",
    "os.environ[\"OPENCV_IO_MAX_IMAGE_PIXELS\"] = str(pow(2,40))\n",
    "import cv2\n",
    "import imageio\n",
    "# import matplotlib.pyplot as plt\n",
    "import numpy as np\n",
    "import pathlib\n",
    "import glob\n",
    "import pandas as pd\n",
    "from tqdm import tqdm\n",
    "# from pyometiff import OMETIFFReader\n",
    "from tiatoolbox.tools import patchextraction\n",
    "from tiatoolbox.tools.tissuemask import OtsuTissueMasker\n",
    "import imageio.v2 as imageio"
   ]
  },
  {
   "cell_type": "code",
   "execution_count": 14,
   "metadata": {},
   "outputs": [
    {
     "name": "stdout",
     "output_type": "stream",
     "text": [
      "total 95595880\n",
      "-rwxr-xr-x 1 fshahi 4234418813 Aug 15  2018 \u001b[0m\u001b[01;32mMESO_187_29.ndpi\u001b[0m*\n",
      "-rwxr-xr-x 1 fshahi 4188044700 Aug 15  2018 \u001b[01;32mMESO_187_30.ndpi\u001b[0m*\n",
      "-rwxr-xr-x 1 fshahi 5224312449 Aug 15  2018 \u001b[01;32mMESO_187_31.ndpi\u001b[0m*\n",
      "-rwxr-xr-x 1 fshahi 5790635385 Aug 15  2018 \u001b[01;32mMESO_187_32.ndpi\u001b[0m*\n",
      "-rwxr-xr-x 1 fshahi 5330053179 Aug 15  2018 \u001b[01;32mMESO_187_33.ndpi\u001b[0m*\n",
      "-rwxr-xr-x 1 fshahi      18475 Aug 16  2018 \u001b[01;32mMESO_187_33.ndpi.ndpa\u001b[0m*\n",
      "-rwxr-xr-x 1 fshahi 5862766319 Aug 15  2018 \u001b[01;32mMESO_187_34.ndpi\u001b[0m*\n",
      "-rwxr-xr-x 1 fshahi       8494 Aug 16  2018 \u001b[01;32mMESO_187_34.ndpi.ndpa\u001b[0m*\n",
      "-rwxr-xr-x 1 fshahi 4130432567 Aug 15  2018 \u001b[01;32mMESO_187_37.ndpi\u001b[0m*\n",
      "-rwxr-xr-x 1 fshahi 6647958666 Aug 15  2018 \u001b[01;32mMESO_187_38.ndpi\u001b[0m*\n",
      "-rwxr-xr-x 1 fshahi      12538 Sep 24  2018 \u001b[01;32mMESO_187_38.ndpi.ndpa\u001b[0m*\n",
      "-rwxr-xr-x 1 fshahi 4627353477 Aug 15  2018 \u001b[01;32mMESO_187_39.ndpi\u001b[0m*\n",
      "-rwxr-xr-x 1 fshahi 6512424848 Aug 15  2018 \u001b[01;32mMESO_187_40.ndpi\u001b[0m*\n",
      "-rwxr-xr-x 1 fshahi       9035 Sep 11  2018 \u001b[01;32mMESO_187_40.ndpi.ndpa\u001b[0m*\n",
      "-rwxr-xr-x 1 fshahi 6129428976 Aug 15  2018 \u001b[01;32mMESO_187_41.ndpi\u001b[0m*\n",
      "-rwxr-xr-x 1 fshahi 6456691780 Aug 15  2018 \u001b[01;32mMESO_187_42.ndpi\u001b[0m*\n",
      "-rwxr-xr-x 1 fshahi      16107 Sep 11  2018 \u001b[01;32mMESO_187_42.ndpi.ndpa\u001b[0m*\n",
      "-rwxr-xr-x 1 fshahi 6710910033 Aug 15  2018 \u001b[01;32mMESO_187_43.ndpi\u001b[0m*\n",
      "-rwxr-xr-x 1 fshahi 5527815375 Aug 15  2018 \u001b[01;32mMESO_187_44.ndpi\u001b[0m*\n",
      "-rwxr-xr-x 1 fshahi 5523260028 Aug 15  2018 \u001b[01;32mMESO_187_50.ndpi\u001b[0m*\n",
      "-rwxr-xr-x 1 fshahi 9622591918 Aug 15  2018 \u001b[01;32mMESO_187_51.ndpi\u001b[0m*\n",
      "-rwxr-xr-x 1 fshahi 5370923640 Aug 15  2018 \u001b[01;32mMESO_187_52.ndpi\u001b[0m*\n"
     ]
    }
   ],
   "source": [
    "ll '/mnt/cephfs/home/users/fshahi/data/FSHAHI/Mesothelioma_2005/Meso_187/40X/MESO_187_29'\n"
   ]
  },
  {
   "cell_type": "code",
   "execution_count": null,
   "metadata": {},
   "outputs": [],
   "source": [
    "# from openslide import OpenSlide\n",
    "# import pyvips\n",
    "from aicsimageio import AICSImage"
   ]
  },
  {
   "cell_type": "code",
   "execution_count": 8,
   "metadata": {},
   "outputs": [
    {
     "ename": "",
     "evalue": "",
     "output_type": "error",
     "traceback": [
      "\u001b[1;31mThe Kernel crashed while executing code in the current cell or a previous cell. \n",
      "\u001b[1;31mPlease review the code in the cell(s) to identify a possible cause of the failure. \n",
      "\u001b[1;31mClick <a href='https://aka.ms/vscodeJupyterKernelCrash'>here</a> for more info. \n",
      "\u001b[1;31mView Jupyter <a href='command:jupyter.viewOutput'>log</a> for further details."
     ]
    }
   ],
   "source": [
    "\n",
    "img_path = '/mnt/cephfs/home/users/fshahi/data/FSHAHI/Mesothelioma_2005/Meso_187/40X/MESO_187_51.ndpi'\n",
    "# img_path = '/mnt/cephfs/home/users/fshahi/data/FSHAHI/Mesothelioma_2005/Meso_187/40X/MESO_187_29.ndpi'\n",
    "# slide = OpenSlide(img_path,)\n",
    "img = AICSImage(img_path, dask_tiles=True)\n",
    "print(img.shape)\n",
    "# image = pyvips.Image.new_from_file(img_path)\n",
    "# image = large_image_source_openslide.open(img_path)\n",
    "\n",
    "\n",
    "# core_im = imageio.imread(img_path)\n",
    "# print(core_im.shape)"
   ]
  }
 ],
 "metadata": {
  "kernelspec": {
   "display_name": "mif",
   "language": "python",
   "name": "python3"
  },
  "language_info": {
   "codemirror_mode": {
    "name": "ipython",
    "version": 3
   },
   "file_extension": ".py",
   "mimetype": "text/x-python",
   "name": "python",
   "nbconvert_exporter": "python",
   "pygments_lexer": "ipython3",
   "version": "3.11.5"
  }
 },
 "nbformat": 4,
 "nbformat_minor": 2
}
